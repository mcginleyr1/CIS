{
 "cells": [
  {
   "cell_type": "code",
   "execution_count": 33,
   "metadata": {},
   "outputs": [],
   "source": [
    "from datetime import datetime, timedelta,date\n",
    "import pandas as pd\n",
    "from sklearn.metrics import classification_report,confusion_matrix\n",
    "import matplotlib.pyplot as plt\n",
    "import numpy as np\n",
    "import seaborn as sns\n",
    "from __future__ import division\n",
    "from sklearn.cluster import KMeans\n",
    "import xgboost as xgb\n",
    "from sklearn.model_selection import KFold, cross_val_score, train_test_split"
   ]
  },
  {
   "cell_type": "code",
   "execution_count": 34,
   "metadata": {},
   "outputs": [],
   "source": [
    "#read data from csv and redo the data work we done before\n",
    "tx_data = pd.read_csv('OnlineRetail.csv', encoding='unicode_escape')"
   ]
  },
  {
   "cell_type": "code",
   "execution_count": 35,
   "metadata": {},
   "outputs": [],
   "source": [
    "tx_data['InvoiceDate'] = pd.to_datetime(tx_data['InvoiceDate'])\n",
    "tx_uk = tx_data.query(\"Country=='United Kingdom'\").reset_index(drop=True)\n",
    "\n",
    "#create 3m and 6m dataframes\n",
    "bound1 = pd.to_datetime(date(2011, 6, 1))\n",
    "bound2 = pd.to_datetime(date(2011, 3, 1))\n",
    "bound3 = pd.to_datetime(date(2011, 12, 1))\n",
    "tx_3m = tx_uk[(tx_uk.InvoiceDate < bound1) & (tx_uk.InvoiceDate >= bound2)].reset_index(drop=True)\n",
    "tx_6m = tx_uk[(tx_uk.InvoiceDate >= bound1) & (tx_uk.InvoiceDate < bound3)].reset_index(drop=True)\n",
    "\n",
    "#create tx_user for assigning clustering\n",
    "tx_user = pd.DataFrame(tx_3m['CustomerID'].unique())\n",
    "tx_user.columns = ['CustomerID']"
   ]
  },
  {
   "cell_type": "code",
   "execution_count": 25,
   "metadata": {},
   "outputs": [],
   "source": [
    "#order cluster method\n",
    "def order_cluster(cluster_field_name, target_field_name,df,ascending):\n",
    "    new_cluster_field_name = 'new_' + cluster_field_name\n",
    "    df_new = df.groupby(cluster_field_name)[target_field_name].mean().reset_index()\n",
    "    df_new = df_new.sort_values(by=target_field_name,ascending=ascending).reset_index(drop=True)\n",
    "    df_new['index'] = df_new.index\n",
    "    df_final = pd.merge(df,df_new[[cluster_field_name,'index']], on=cluster_field_name)\n",
    "    df_final = df_final.drop([cluster_field_name],axis=1)\n",
    "    df_final = df_final.rename(columns={\"index\":cluster_field_name})\n",
    "    return df_final"
   ]
  },
  {
   "cell_type": "code",
   "execution_count": 26,
   "metadata": {},
   "outputs": [],
   "source": [
    "#calculate recency score\n",
    "tx_max_purchase = tx_3m.groupby('CustomerID').InvoiceDate.max().reset_index()\n",
    "tx_max_purchase.columns = ['CustomerID','MaxPurchaseDate']\n",
    "tx_max_purchase['Recency'] = (tx_max_purchase['MaxPurchaseDate'].max() - tx_max_purchase['MaxPurchaseDate']).dt.days\n",
    "tx_user = pd.merge(tx_user, tx_max_purchase[['CustomerID','Recency']], on='CustomerID')\n",
    "\n",
    "kmeans = KMeans(n_clusters=4)\n",
    "kmeans.fit(tx_user[['Recency']])\n",
    "tx_user['RecencyCluster'] = kmeans.predict(tx_user[['Recency']])\n",
    "\n",
    "tx_user = order_cluster('RecencyCluster', 'Recency',tx_user,False)\n"
   ]
  },
  {
   "cell_type": "code",
   "execution_count": 27,
   "metadata": {},
   "outputs": [],
   "source": [
    "#calcuate frequency score\n",
    "tx_frequency = tx_3m.groupby('CustomerID').InvoiceDate.count().reset_index()\n",
    "tx_frequency.columns = ['CustomerID','Frequency']\n",
    "tx_user = pd.merge(tx_user, tx_frequency, on='CustomerID')\n",
    "\n",
    "kmeans = KMeans(n_clusters=4)\n",
    "kmeans.fit(tx_user[['Frequency']])\n",
    "tx_user['FrequencyCluster'] = kmeans.predict(tx_user[['Frequency']])\n",
    "\n",
    "tx_user = order_cluster('FrequencyCluster', 'Frequency',tx_user,True)\n"
   ]
  },
  {
   "cell_type": "code",
   "execution_count": 28,
   "metadata": {},
   "outputs": [],
   "source": [
    "#calcuate revenue score\n",
    "tx_3m['Revenue'] = tx_3m['UnitPrice'] * tx_3m['Quantity']\n",
    "tx_revenue = tx_3m.groupby('CustomerID').Revenue.sum().reset_index()\n",
    "tx_user = pd.merge(tx_user, tx_revenue, on='CustomerID')\n",
    "\n",
    "kmeans = KMeans(n_clusters=4)\n",
    "kmeans.fit(tx_user[['Revenue']])\n",
    "tx_user['RevenueCluster'] = kmeans.predict(tx_user[['Revenue']])\n",
    "tx_user = order_cluster('RevenueCluster', 'Revenue',tx_user,True)\n",
    "\n"
   ]
  },
  {
   "cell_type": "code",
   "execution_count": 29,
   "metadata": {},
   "outputs": [],
   "source": [
    "#overall scoring\n",
    "tx_user['OverallScore'] = tx_user['RecencyCluster'] + tx_user['FrequencyCluster'] + tx_user['RevenueCluster']\n",
    "tx_user['Segment'] = 'Low-Value'\n",
    "tx_user.loc[tx_user['OverallScore']>2,'Segment'] = 'Mid-Value' \n",
    "tx_user.loc[tx_user['OverallScore']>4,'Segment'] = 'High-Value' \n",
    "\n",
    "\n",
    "\n"
   ]
  },
  {
   "cell_type": "code",
   "execution_count": 30,
   "metadata": {},
   "outputs": [
    {
     "name": "stdout",
     "output_type": "stream",
     "text": [
      "      CustomerID  Recency  RecencyCluster  Frequency  FrequencyCluster  \\\n",
      "0        14620.0       12               3         30                 0   \n",
      "1        15194.0        6               3         64                 0   \n",
      "2        18044.0        5               3         57                 0   \n",
      "3        18075.0       12               3         35                 0   \n",
      "4        15241.0        0               3         64                 0   \n",
      "...          ...      ...             ...        ...               ...   \n",
      "1835     17511.0       14               3        199                 1   \n",
      "1836     16684.0       13               3         73                 1   \n",
      "1837     15311.0        4               3        522                 2   \n",
      "1838     13089.0        5               3        452                 2   \n",
      "1839     14298.0       27               2        433                 2   \n",
      "\n",
      "       Revenue  RevenueCluster  OverallScore     Segment  \n",
      "0       393.28               0             3   Mid-Value  \n",
      "1      1439.02               0             3   Mid-Value  \n",
      "2       808.96               0             3   Mid-Value  \n",
      "3       638.12               0             3   Mid-Value  \n",
      "4       947.55               0             3   Mid-Value  \n",
      "...        ...             ...           ...         ...  \n",
      "1835  17307.53               2             6  High-Value  \n",
      "1836  15263.96               2             6  High-Value  \n",
      "1837  16309.61               2             7  High-Value  \n",
      "1838  11757.87               2             7  High-Value  \n",
      "1839  14984.73               2             6  High-Value  \n",
      "\n",
      "[1840 rows x 9 columns]\n"
     ]
    }
   ],
   "source": [
    "print(tx_user)"
   ]
  }
 ],
 "metadata": {
  "kernelspec": {
   "display_name": "Python 3",
   "language": "python",
   "name": "python3"
  },
  "language_info": {
   "codemirror_mode": {
    "name": "ipython",
    "version": 3
   },
   "file_extension": ".py",
   "mimetype": "text/x-python",
   "name": "python",
   "nbconvert_exporter": "python",
   "pygments_lexer": "ipython3",
   "version": "3.8.6"
  }
 },
 "nbformat": 4,
 "nbformat_minor": 4
}
